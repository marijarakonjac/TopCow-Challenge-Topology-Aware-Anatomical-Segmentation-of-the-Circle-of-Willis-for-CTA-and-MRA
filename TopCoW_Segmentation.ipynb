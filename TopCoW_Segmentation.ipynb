{
  "cells": [
    {
      "cell_type": "code",
      "execution_count": null,
      "metadata": {
        "id": "IwunQSIm9MCo"
      },
      "outputs": [],
      "source": [
        "import nibabel as nib\n",
        "import matplotlib.pyplot as plt\n",
        "import numpy as np\n",
        "import scipy.ndimage as ndi\n",
        "import imageio\n",
        "import cv2"
      ]
    },
    {
      "cell_type": "code",
      "execution_count": null,
      "metadata": {
        "colab": {
          "base_uri": "https://localhost:8080/"
        },
        "id": "DKeBi1ga_NBn",
        "outputId": "1192f3bc-3057-4d79-f869-617587e25e00"
      },
      "outputs": [
        {
          "output_type": "stream",
          "name": "stdout",
          "text": [
            "Mounted at /content/drive\n"
          ]
        }
      ],
      "source": [
        "from google.colab import drive\n",
        "drive.mount('/content/drive')"
      ]
    },
    {
      "cell_type": "code",
      "execution_count": null,
      "metadata": {
        "id": "z52J4e9u_Ptw"
      },
      "outputs": [],
      "source": [
        "import os\n",
        "os.chdir('/content/drive/My Drive/slike_abs/slike_mr_roi')"
      ]
    },
    {
      "cell_type": "code",
      "execution_count": null,
      "metadata": {
        "id": "51V1vqpa4Hzs",
        "collapsed": true
      },
      "outputs": [],
      "source": [
        "# Load the NIfTI file\n",
        "nii_file1 = r'slike_mr_roi\\topcow_ct_whole_001_0000.nii.gz'\n",
        "nii_file2 = r'C:\\Users\\marij\\ABS-PROJEKAT\\TopCoW_Data_MICCAI2023\\TopCoW_Data_MICCAI2023\\topcow_batch-1_40pairMRCT_30062023\\imagesTr\\topcow_ct_roi_001_0000.nii.gz'\n",
        "nii_file3 = r'C:\\Users\\marij\\ABS-PROJEKAT\\TopCoW_Data_MICCAI2023\\TopCoW_Data_MICCAI2023\\topcow_batch-1_40pairMRCT_30062023\\imagesTr\\topcow_mr_whole_001_0000.nii.gz'\n",
        "nii_file4 = r'C:\\Users\\marij\\ABS-PROJEKAT\\TopCoW_Data_MICCAI2023\\TopCoW_Data_MICCAI2023\\topcow_batch-1_40pairMRCT_30062023\\imagesTr\\topcow_mr_roi_001_0000.nii.gz'\n",
        "\n",
        "\n",
        "img1 = nib.load(nii_file1)\n",
        "img2 = nib.load(nii_file2)\n",
        "img3 = nib.load(nii_file3)\n",
        "img4 = nib.load(nii_file4)\n",
        "\n",
        "\n",
        "data1 = img1.get_fdata()\n",
        "data2 = img2.get_fdata()\n",
        "data3 = img3.get_fdata()\n",
        "data4 = img4.get_fdata()\n",
        "\n",
        "\n",
        "print(data1.shape)\n",
        "print(data2.shape)\n",
        "print(data3.shape)\n",
        "print(data4.shape)\n"
      ]
    },
    {
      "cell_type": "code",
      "execution_count": null,
      "metadata": {
        "id": "xTA3-ct_4QIa"
      },
      "outputs": [],
      "source": [
        "slika1 = data1[:, :, 150]\n",
        "slika2 = data2[:, :, 10]\n",
        "slika3 = data3[:, :, 90]\n",
        "slika4 = data4[:, :, 15]\n",
        "\n",
        "\n",
        "fig, axes = plt.subplots(nrows = 2, ncols = 2, figsize=(10,8), dpi = 120)\n",
        "im1 = axes[0,0].imshow(slika1, cmap='gray');axes[0,0].axis('off');axes[0,0].set_title('CT-cela slika');\n",
        "im2 = axes[0,1].imshow(slika2, cmap='gray');axes[0,1].axis('off');axes[0,1].set_title('CT-region of interest');\n",
        "im3 = axes[1,0].imshow(slika3, cmap='gray');axes[1,0].axis('off');axes[1,0].set_title('MR-cela slika');\n",
        "im4 = axes[1,1].imshow(slika4, cmap='gray');axes[1,1].axis('off');axes[1,1].set_title('MR-region of interest');\n",
        "fig.colorbar(im1, ax=axes[0,0], fraction = 0.03, pad = 0.04)\n",
        "fig.colorbar(im2, ax=axes[0,1], fraction = 0.03, pad = 0.04)\n",
        "fig.colorbar(im3, ax=axes[1,0], fraction = 0.03, pad = 0.04)\n",
        "fig.colorbar(im4, ax=axes[1,1], fraction = 0.03, pad = 0.04)\n",
        "\n",
        "\n",
        "min = slika1.min()\n",
        "max = slika1.max()\n",
        "slika1 = (slika1-min)/(max-min)*255\n",
        "slika1 = np.uint8(slika1)\n",
        "\n",
        "min = slika2.min()\n",
        "max = slika2.max()\n",
        "slika2 = (slika2-min)/(max-min)*255\n",
        "slika2 = np.uint8(slika2)\n",
        "\n",
        "min = slika3.min()\n",
        "max = slika3.max()\n",
        "slika3 = (slika3-min)/(max-min)*255\n",
        "slika3 = np.uint8(slika3)\n",
        "\n",
        "min = slika4.min()\n",
        "max = slika4.max()\n",
        "slika4 = (slika4-min)/(max-min)*255\n",
        "slika4 = np.uint8(slika4)\n",
        "\n",
        "fig, axes = plt.subplots(nrows = 2, ncols = 2, figsize=(10,8), dpi = 120)\n",
        "im1 = axes[0,0].imshow(slika1, cmap='gray');axes[0,0].axis('off');axes[0,0].set_title('CT-cela slika');\n",
        "im2 = axes[0,1].imshow(slika2, cmap='gray');axes[0,1].axis('off');axes[0,1].set_title('CT-region of interest');\n",
        "im3 = axes[1,0].imshow(slika3, cmap='gray');axes[1,0].axis('off');axes[1,0].set_title('MR-cela slika');\n",
        "im4 = axes[1,1].imshow(slika4, cmap='gray');axes[1,1].axis('off');axes[1,1].set_title('MR-region of interest');\n",
        "fig.colorbar(im1, ax=axes[0,0], fraction = 0.03, pad = 0.04)\n",
        "fig.colorbar(im2, ax=axes[0,1], fraction = 0.03, pad = 0.04)\n",
        "fig.colorbar(im3, ax=axes[1,0], fraction = 0.03, pad = 0.04)\n",
        "fig.colorbar(im4, ax=axes[1,1], fraction = 0.03, pad = 0.04)\n",
        "\n",
        "\n",
        "plt.figure()\n",
        "hist = ndi.histogram(slika1, 0, 255, 256)\n",
        "plt.plot(hist)\n",
        "plt.title('Histogram-CT-cela slika');\n",
        "plt.figure()\n",
        "hist = ndi.histogram(slika2, 0, 255, 256)\n",
        "plt.plot(hist)\n",
        "plt.title('Histogram-CT-region of interest');\n",
        "plt.figure()\n",
        "hist = ndi.histogram(slika3, 0, 255, 256)\n",
        "plt.plot(hist)\n",
        "plt.title('Histogram-MR-cela slika');\n",
        "plt.figure()\n",
        "hist = ndi.histogram(slika4, 0, 255, 256)\n",
        "plt.plot(hist)\n",
        "plt.title('Histogram-MR-region of interest');"
      ]
    },
    {
      "cell_type": "code",
      "execution_count": null,
      "metadata": {
        "id": "5_-i_eYQ4UjJ"
      },
      "outputs": [],
      "source": [
        "from skimage import exposure\n",
        "slika_out1 = exposure.rescale_intensity(slika1, in_range = (150, 180), out_range = (0, 255))\n",
        "\n",
        "slika_out2 = exposure.rescale_intensity(slika2, in_range = (0, 150), out_range = (0, 255))\n",
        "\n",
        "slika_out3 = exposure.rescale_intensity(slika3, in_range = (0, 80), out_range = (0, 255))\n",
        "\n",
        "slika_out4 = exposure.rescale_intensity(slika4, in_range = (0, 80), out_range = (0, 255))\n",
        "\n",
        "\n",
        "fig, axes = plt.subplots(nrows = 2, ncols = 2, figsize=(10,8), dpi = 120)\n",
        "im1 = axes[0,0].imshow(slika_out1, cmap='gray');axes[0,0].axis('off');axes[0,0].set_title('CT-cela slika-nakon popravke kontrasta');\n",
        "im2 = axes[0,1].imshow(slika_out2, cmap='gray');axes[0,1].axis('off');axes[0,1].set_title('CT-region of interest-nakon popravke kontrasta');\n",
        "im3 = axes[1,0].imshow(slika_out3, cmap='gray');axes[1,0].axis('off');axes[1,0].set_title('MR-cela slika-nakon popravke kontrasta');\n",
        "im4 = axes[1,1].imshow(slika_out4, cmap='gray');axes[1,1].axis('off');axes[1,1].set_title('MR-region of interest-nakon popravke kontrasta');\n",
        "fig.colorbar(im1, ax=axes[0,0], fraction = 0.03, pad = 0.04)\n",
        "fig.colorbar(im2, ax=axes[0,1], fraction = 0.03, pad = 0.04)\n",
        "fig.colorbar(im3, ax=axes[1,0], fraction = 0.03, pad = 0.04)\n",
        "fig.colorbar(im4, ax=axes[1,1], fraction = 0.03, pad = 0.04)\n"
      ]
    },
    {
      "cell_type": "code",
      "execution_count": null,
      "metadata": {
        "id": "R6VmDHhF4dzz"
      },
      "outputs": [],
      "source": [
        "H = 128\n",
        "W = 128\n",
        "images = [];\n",
        "labels = [];\n",
        "\n",
        "for i in range(40):\n",
        "    nii_file = 'topcow_mr_roi_0' + str(i+1).zfill(2) + '_0000.nii.gz'\n",
        "    data = nib.load(nii_file);\n",
        "    img = data.get_fdata()\n",
        "    mins = np.min(img, axis=(0,1));\n",
        "    maxs = np.max(img, axis=(0,1));\n",
        "    mins = mins.reshape((1, 1, -1))\n",
        "    maxs = maxs.reshape((1, 1, -1))\n",
        "    maxs = np.where(maxs == mins, maxs + 1, maxs)\n",
        "    img = (img-mins)/(maxs-mins);\n",
        "    dim = np.shape(img)[2];\n",
        "    for j in range(dim):\n",
        "        img1 = cv2.resize(img[:,:,j], (W, H))\n",
        "        img1 = img1.astype(np.float32);\n",
        "        img1 = np.expand_dims(img1, axis=-1)\n",
        "        if(i==0):\n",
        "            images = img1;\n",
        "        else:\n",
        "            images = np.concatenate((images, img1), axis = 2);\n"
      ]
    },
    {
      "cell_type": "code",
      "execution_count": null,
      "metadata": {
        "colab": {
          "base_uri": "https://localhost:8080/"
        },
        "id": "6HbhIgPT4hWY",
        "outputId": "91794f21-4653-4a7b-893e-fe779dbac398"
      },
      "outputs": [
        {
          "output_type": "stream",
          "name": "stdout",
          "text": [
            "(128, 128, 1389)\n"
          ]
        }
      ],
      "source": [
        "print(np.shape(images));"
      ]
    },
    {
      "cell_type": "code",
      "execution_count": null,
      "metadata": {
        "id": "CPCeRE1UB22l"
      },
      "outputs": [],
      "source": [
        "os.chdir('/content/drive/My Drive/slike_abs/slike_mr_roi_labels')"
      ]
    },
    {
      "cell_type": "code",
      "execution_count": null,
      "metadata": {
        "id": "mSz9Qd4o4kDb"
      },
      "outputs": [],
      "source": [
        "for i in range(40):\n",
        "    nii_file = 'topcow_mr_roi_0' + str(i+1).zfill(2) + '.nii.gz'\n",
        "    data = nib.load(nii_file);\n",
        "    img = data.get_fdata()\n",
        "    mins = np.min(img, axis=(0,1));\n",
        "    maxs = np.max(img, axis=(0,1));\n",
        "    mins = mins.reshape((1, 1, -1))\n",
        "    maxs = maxs.reshape((1, 1, -1))\n",
        "    maxs = np.where(maxs == mins, maxs + 1, maxs)\n",
        "    img = (img-mins)/(maxs-mins);\n",
        "    dim = np.shape(img)[2];\n",
        "    for j in range(dim):\n",
        "        img1 = cv2.resize(img[:,:,j], (W, H))\n",
        "        img1 = img1.astype(np.float32);\n",
        "        img1 = np.expand_dims(img1, axis=-1)\n",
        "        if(i==0):\n",
        "            labels = img1;\n",
        "        else:\n",
        "            labels = np.concatenate((labels, img1), axis = 2);"
      ]
    },
    {
      "cell_type": "code",
      "execution_count": null,
      "metadata": {
        "colab": {
          "base_uri": "https://localhost:8080/"
        },
        "id": "KgDiY1W74nyV",
        "outputId": "0bc66590-1ab3-4440-cfaa-4850d0203e88"
      },
      "outputs": [
        {
          "output_type": "stream",
          "name": "stdout",
          "text": [
            "(128, 128, 1389)\n"
          ]
        }
      ],
      "source": [
        "print(np.shape(labels));"
      ]
    },
    {
      "cell_type": "code",
      "execution_count": null,
      "metadata": {
        "id": "UeWmGXAd4qat"
      },
      "outputs": [],
      "source": [
        "for i in range(30):\n",
        "    nii_file = 'topcow_mr_roi_0' + str(i+41).zfill(2) + '_0000.nii.gz'\n",
        "    data = nib.load(nii_file);\n",
        "    img = data.get_fdata()\n",
        "    mins = np.min(img, axis=(0,1));\n",
        "    maxs = np.max(img, axis=(0,1));\n",
        "    mins = mins.reshape((1, 1, -1))\n",
        "    maxs = maxs.reshape((1, 1, -1))\n",
        "    maxs = np.where(maxs == mins, maxs + 1, maxs)\n",
        "    img = (img-mins)/(maxs-mins);\n",
        "    dim = np.shape(img)[2];\n",
        "    for j in range(dim):\n",
        "        img1 = cv2.resize(img[:,:,j], (W, H))\n",
        "        img1 = img1.astype(np.float32);\n",
        "        img1 = np.expand_dims(img1, axis=-1)\n",
        "        images = np.concatenate((images, img1), axis = 2);"
      ]
    },
    {
      "cell_type": "code",
      "execution_count": null,
      "metadata": {
        "colab": {
          "base_uri": "https://localhost:8080/"
        },
        "id": "c2-AWbLP4tns",
        "outputId": "121fa874-1948-47e7-8248-ba3d4a33339a"
      },
      "outputs": [
        {
          "output_type": "stream",
          "name": "stdout",
          "text": [
            "(128, 128, 2497)\n"
          ]
        }
      ],
      "source": [
        "print(np.shape(images));"
      ]
    },
    {
      "cell_type": "code",
      "execution_count": null,
      "metadata": {
        "id": "R88ckSQT4w_j"
      },
      "outputs": [],
      "source": [
        "for i in range(30):\n",
        "    nii_file = 'topcow_mr_roi_0' + str(i+41).zfill(2) + '.nii.gz'\n",
        "    data = nib.load(nii_file);\n",
        "    img = data.get_fdata()\n",
        "    mins = np.min(img, axis=(0,1));\n",
        "    maxs = np.max(img, axis=(0,1));\n",
        "    mins = mins.reshape((1, 1, -1))\n",
        "    maxs = maxs.reshape((1, 1, -1))\n",
        "    maxs = np.where(maxs == mins, maxs + 1, maxs)\n",
        "    img = (img-mins)/(maxs-mins);\n",
        "    dim = np.shape(img)[2];\n",
        "    for j in range(dim):\n",
        "        img1 = cv2.resize(img[:,:,j], (W, H))\n",
        "        img1 = img1.astype(np.float32);\n",
        "        img1 = np.expand_dims(img1, axis=-1)\n",
        "        labels = np.concatenate((labels, img1), axis = 2);"
      ]
    },
    {
      "cell_type": "code",
      "execution_count": null,
      "metadata": {
        "colab": {
          "base_uri": "https://localhost:8080/"
        },
        "id": "eEUhR3CC4z2L",
        "outputId": "8f0ae090-da46-4ed4-8088-a8b96b96d08d"
      },
      "outputs": [
        {
          "output_type": "stream",
          "name": "stdout",
          "text": [
            "(128, 128, 2497)\n"
          ]
        }
      ],
      "source": [
        "print(np.shape(labels));"
      ]
    },
    {
      "cell_type": "code",
      "execution_count": null,
      "metadata": {
        "colab": {
          "base_uri": "https://localhost:8080/"
        },
        "id": "lgJGuisE43Ak",
        "outputId": "b905611c-05a4-456a-c57b-8389b722f760"
      },
      "outputs": [
        {
          "output_type": "stream",
          "name": "stdout",
          "text": [
            "(2497, 128, 128, 1)\n",
            "(2497, 128, 128, 1)\n"
          ]
        }
      ],
      "source": [
        "images_transposed = np.transpose(images, (2, 0, 1))\n",
        "images = images_transposed.reshape(2497, 128, 128, 1)\n",
        "labels_transposed = np.transpose(labels, (2, 0, 1))\n",
        "labels = labels_transposed.reshape(2497, 128, 128, 1)\n",
        "\n",
        "print(np.shape(images));\n",
        "print(np.shape(labels))"
      ]
    },
    {
      "cell_type": "code",
      "execution_count": null,
      "metadata": {
        "colab": {
          "base_uri": "https://localhost:8080/"
        },
        "id": "zr8f40Dx46Wi",
        "outputId": "c1b36155-1644-47df-eb90-303853c44206"
      },
      "outputs": [
        {
          "output_type": "stream",
          "name": "stdout",
          "text": [
            "Model: \"UNET\"\n",
            "__________________________________________________________________________________________________\n",
            " Layer (type)                Output Shape                 Param #   Connected to                  \n",
            "==================================================================================================\n",
            " input_1 (InputLayer)        [(None, 128, 128, 1)]        0         []                            \n",
            "                                                                                                  \n",
            " conv2d (Conv2D)             (None, 128, 128, 64)         640       ['input_1[0][0]']             \n",
            "                                                                                                  \n",
            " batch_normalization (Batch  (None, 128, 128, 64)         256       ['conv2d[0][0]']              \n",
            " Normalization)                                                                                   \n",
            "                                                                                                  \n",
            " activation (Activation)     (None, 128, 128, 64)         0         ['batch_normalization[0][0]'] \n",
            "                                                                                                  \n",
            " conv2d_1 (Conv2D)           (None, 128, 128, 64)         36928     ['activation[0][0]']          \n",
            "                                                                                                  \n",
            " batch_normalization_1 (Bat  (None, 128, 128, 64)         256       ['conv2d_1[0][0]']            \n",
            " chNormalization)                                                                                 \n",
            "                                                                                                  \n",
            " activation_1 (Activation)   (None, 128, 128, 64)         0         ['batch_normalization_1[0][0]'\n",
            "                                                                    ]                             \n",
            "                                                                                                  \n",
            " max_pooling2d (MaxPooling2  (None, 64, 64, 64)           0         ['activation_1[0][0]']        \n",
            " D)                                                                                               \n",
            "                                                                                                  \n",
            " conv2d_2 (Conv2D)           (None, 64, 64, 128)          73856     ['max_pooling2d[0][0]']       \n",
            "                                                                                                  \n",
            " batch_normalization_2 (Bat  (None, 64, 64, 128)          512       ['conv2d_2[0][0]']            \n",
            " chNormalization)                                                                                 \n",
            "                                                                                                  \n",
            " activation_2 (Activation)   (None, 64, 64, 128)          0         ['batch_normalization_2[0][0]'\n",
            "                                                                    ]                             \n",
            "                                                                                                  \n",
            " conv2d_3 (Conv2D)           (None, 64, 64, 128)          147584    ['activation_2[0][0]']        \n",
            "                                                                                                  \n",
            " batch_normalization_3 (Bat  (None, 64, 64, 128)          512       ['conv2d_3[0][0]']            \n",
            " chNormalization)                                                                                 \n",
            "                                                                                                  \n",
            " activation_3 (Activation)   (None, 64, 64, 128)          0         ['batch_normalization_3[0][0]'\n",
            "                                                                    ]                             \n",
            "                                                                                                  \n",
            " max_pooling2d_1 (MaxPoolin  (None, 32, 32, 128)          0         ['activation_3[0][0]']        \n",
            " g2D)                                                                                             \n",
            "                                                                                                  \n",
            " conv2d_4 (Conv2D)           (None, 32, 32, 256)          295168    ['max_pooling2d_1[0][0]']     \n",
            "                                                                                                  \n",
            " batch_normalization_4 (Bat  (None, 32, 32, 256)          1024      ['conv2d_4[0][0]']            \n",
            " chNormalization)                                                                                 \n",
            "                                                                                                  \n",
            " activation_4 (Activation)   (None, 32, 32, 256)          0         ['batch_normalization_4[0][0]'\n",
            "                                                                    ]                             \n",
            "                                                                                                  \n",
            " conv2d_5 (Conv2D)           (None, 32, 32, 256)          590080    ['activation_4[0][0]']        \n",
            "                                                                                                  \n",
            " batch_normalization_5 (Bat  (None, 32, 32, 256)          1024      ['conv2d_5[0][0]']            \n",
            " chNormalization)                                                                                 \n",
            "                                                                                                  \n",
            " activation_5 (Activation)   (None, 32, 32, 256)          0         ['batch_normalization_5[0][0]'\n",
            "                                                                    ]                             \n",
            "                                                                                                  \n",
            " max_pooling2d_2 (MaxPoolin  (None, 16, 16, 256)          0         ['activation_5[0][0]']        \n",
            " g2D)                                                                                             \n",
            "                                                                                                  \n",
            " conv2d_6 (Conv2D)           (None, 16, 16, 512)          1180160   ['max_pooling2d_2[0][0]']     \n",
            "                                                                                                  \n",
            " batch_normalization_6 (Bat  (None, 16, 16, 512)          2048      ['conv2d_6[0][0]']            \n",
            " chNormalization)                                                                                 \n",
            "                                                                                                  \n",
            " activation_6 (Activation)   (None, 16, 16, 512)          0         ['batch_normalization_6[0][0]'\n",
            "                                                                    ]                             \n",
            "                                                                                                  \n",
            " conv2d_7 (Conv2D)           (None, 16, 16, 512)          2359808   ['activation_6[0][0]']        \n",
            "                                                                                                  \n",
            " batch_normalization_7 (Bat  (None, 16, 16, 512)          2048      ['conv2d_7[0][0]']            \n",
            " chNormalization)                                                                                 \n",
            "                                                                                                  \n",
            " activation_7 (Activation)   (None, 16, 16, 512)          0         ['batch_normalization_7[0][0]'\n",
            "                                                                    ]                             \n",
            "                                                                                                  \n",
            " max_pooling2d_3 (MaxPoolin  (None, 8, 8, 512)            0         ['activation_7[0][0]']        \n",
            " g2D)                                                                                             \n",
            "                                                                                                  \n",
            " conv2d_8 (Conv2D)           (None, 8, 8, 1024)           4719616   ['max_pooling2d_3[0][0]']     \n",
            "                                                                                                  \n",
            " batch_normalization_8 (Bat  (None, 8, 8, 1024)           4096      ['conv2d_8[0][0]']            \n",
            " chNormalization)                                                                                 \n",
            "                                                                                                  \n",
            " activation_8 (Activation)   (None, 8, 8, 1024)           0         ['batch_normalization_8[0][0]'\n",
            "                                                                    ]                             \n",
            "                                                                                                  \n",
            " conv2d_9 (Conv2D)           (None, 8, 8, 1024)           9438208   ['activation_8[0][0]']        \n",
            "                                                                                                  \n",
            " batch_normalization_9 (Bat  (None, 8, 8, 1024)           4096      ['conv2d_9[0][0]']            \n",
            " chNormalization)                                                                                 \n",
            "                                                                                                  \n",
            " activation_9 (Activation)   (None, 8, 8, 1024)           0         ['batch_normalization_9[0][0]'\n",
            "                                                                    ]                             \n",
            "                                                                                                  \n",
            " conv2d_transpose (Conv2DTr  (None, 16, 16, 512)          2097664   ['activation_9[0][0]']        \n",
            " anspose)                                                                                         \n",
            "                                                                                                  \n",
            " concatenate (Concatenate)   (None, 16, 16, 1024)         0         ['conv2d_transpose[0][0]',    \n",
            "                                                                     'activation_7[0][0]']        \n",
            "                                                                                                  \n",
            " conv2d_10 (Conv2D)          (None, 16, 16, 512)          4719104   ['concatenate[0][0]']         \n",
            "                                                                                                  \n",
            " batch_normalization_10 (Ba  (None, 16, 16, 512)          2048      ['conv2d_10[0][0]']           \n",
            " tchNormalization)                                                                                \n",
            "                                                                                                  \n",
            " activation_10 (Activation)  (None, 16, 16, 512)          0         ['batch_normalization_10[0][0]\n",
            "                                                                    ']                            \n",
            "                                                                                                  \n",
            " conv2d_11 (Conv2D)          (None, 16, 16, 512)          2359808   ['activation_10[0][0]']       \n",
            "                                                                                                  \n",
            " batch_normalization_11 (Ba  (None, 16, 16, 512)          2048      ['conv2d_11[0][0]']           \n",
            " tchNormalization)                                                                                \n",
            "                                                                                                  \n",
            " activation_11 (Activation)  (None, 16, 16, 512)          0         ['batch_normalization_11[0][0]\n",
            "                                                                    ']                            \n",
            "                                                                                                  \n",
            " conv2d_transpose_1 (Conv2D  (None, 32, 32, 256)          524544    ['activation_11[0][0]']       \n",
            " Transpose)                                                                                       \n",
            "                                                                                                  \n",
            " concatenate_1 (Concatenate  (None, 32, 32, 512)          0         ['conv2d_transpose_1[0][0]',  \n",
            " )                                                                   'activation_5[0][0]']        \n",
            "                                                                                                  \n",
            " conv2d_12 (Conv2D)          (None, 32, 32, 256)          1179904   ['concatenate_1[0][0]']       \n",
            "                                                                                                  \n",
            " batch_normalization_12 (Ba  (None, 32, 32, 256)          1024      ['conv2d_12[0][0]']           \n",
            " tchNormalization)                                                                                \n",
            "                                                                                                  \n",
            " activation_12 (Activation)  (None, 32, 32, 256)          0         ['batch_normalization_12[0][0]\n",
            "                                                                    ']                            \n",
            "                                                                                                  \n",
            " conv2d_13 (Conv2D)          (None, 32, 32, 256)          590080    ['activation_12[0][0]']       \n",
            "                                                                                                  \n",
            " batch_normalization_13 (Ba  (None, 32, 32, 256)          1024      ['conv2d_13[0][0]']           \n",
            " tchNormalization)                                                                                \n",
            "                                                                                                  \n",
            " activation_13 (Activation)  (None, 32, 32, 256)          0         ['batch_normalization_13[0][0]\n",
            "                                                                    ']                            \n",
            "                                                                                                  \n",
            " conv2d_transpose_2 (Conv2D  (None, 64, 64, 128)          131200    ['activation_13[0][0]']       \n",
            " Transpose)                                                                                       \n",
            "                                                                                                  \n",
            " concatenate_2 (Concatenate  (None, 64, 64, 256)          0         ['conv2d_transpose_2[0][0]',  \n",
            " )                                                                   'activation_3[0][0]']        \n",
            "                                                                                                  \n",
            " conv2d_14 (Conv2D)          (None, 64, 64, 128)          295040    ['concatenate_2[0][0]']       \n",
            "                                                                                                  \n",
            " batch_normalization_14 (Ba  (None, 64, 64, 128)          512       ['conv2d_14[0][0]']           \n",
            " tchNormalization)                                                                                \n",
            "                                                                                                  \n",
            " activation_14 (Activation)  (None, 64, 64, 128)          0         ['batch_normalization_14[0][0]\n",
            "                                                                    ']                            \n",
            "                                                                                                  \n",
            " conv2d_15 (Conv2D)          (None, 64, 64, 128)          147584    ['activation_14[0][0]']       \n",
            "                                                                                                  \n",
            " batch_normalization_15 (Ba  (None, 64, 64, 128)          512       ['conv2d_15[0][0]']           \n",
            " tchNormalization)                                                                                \n",
            "                                                                                                  \n",
            " activation_15 (Activation)  (None, 64, 64, 128)          0         ['batch_normalization_15[0][0]\n",
            "                                                                    ']                            \n",
            "                                                                                                  \n",
            " conv2d_transpose_3 (Conv2D  (None, 128, 128, 64)         32832     ['activation_15[0][0]']       \n",
            " Transpose)                                                                                       \n",
            "                                                                                                  \n",
            " concatenate_3 (Concatenate  (None, 128, 128, 128)        0         ['conv2d_transpose_3[0][0]',  \n",
            " )                                                                   'activation_1[0][0]']        \n",
            "                                                                                                  \n",
            " conv2d_16 (Conv2D)          (None, 128, 128, 64)         73792     ['concatenate_3[0][0]']       \n",
            "                                                                                                  \n",
            " batch_normalization_16 (Ba  (None, 128, 128, 64)         256       ['conv2d_16[0][0]']           \n",
            " tchNormalization)                                                                                \n",
            "                                                                                                  \n",
            " activation_16 (Activation)  (None, 128, 128, 64)         0         ['batch_normalization_16[0][0]\n",
            "                                                                    ']                            \n",
            "                                                                                                  \n",
            " conv2d_17 (Conv2D)          (None, 128, 128, 64)         36928     ['activation_16[0][0]']       \n",
            "                                                                                                  \n",
            " batch_normalization_17 (Ba  (None, 128, 128, 64)         256       ['conv2d_17[0][0]']           \n",
            " tchNormalization)                                                                                \n",
            "                                                                                                  \n",
            " activation_17 (Activation)  (None, 128, 128, 64)         0         ['batch_normalization_17[0][0]\n",
            "                                                                    ']                            \n",
            "                                                                                                  \n",
            " conv2d_18 (Conv2D)          (None, 128, 128, 1)          65        ['activation_17[0][0]']       \n",
            "                                                                                                  \n",
            "==================================================================================================\n",
            "Total params: 31054145 (118.46 MB)\n",
            "Trainable params: 31042369 (118.42 MB)\n",
            "Non-trainable params: 11776 (46.00 KB)\n",
            "__________________________________________________________________________________________________\n"
          ]
        },
        {
          "output_type": "stream",
          "name": "stderr",
          "text": [
            "/usr/local/lib/python3.10/dist-packages/keras/src/engine/training.py:3103: UserWarning: You are saving your model as an HDF5 file via `model.save()`. This file format is considered legacy. We recommend using instead the native Keras format, e.g. `model.save('my_model.keras')`.\n",
            "  saving_api.save_model(\n",
            "WARNING:tensorflow:Compiled the loaded model, but the compiled metrics have yet to be built. `model.compile_metrics` will be empty until you train or evaluate the model.\n"
          ]
        }
      ],
      "source": [
        "from tensorflow.keras.layers import Conv2D, BatchNormalization, Activation, MaxPool2D, Conv2DTranspose, Concatenate, Input\n",
        "from tensorflow.keras.models import Model\n",
        "\n",
        "\n",
        "def conv_block(inputs, num_filters):\n",
        "    x = Conv2D(num_filters, 3, padding=\"same\")(inputs)\n",
        "    x = BatchNormalization()(x)\n",
        "    x = Activation(\"relu\")(x)\n",
        "\n",
        "    x = Conv2D(num_filters, 3, padding=\"same\")(x)\n",
        "    x = BatchNormalization()(x)\n",
        "    x = Activation(\"relu\")(x)\n",
        "\n",
        "    return x\n",
        "\n",
        "def encoder_block(inputs, num_filters):\n",
        "    x = conv_block(inputs, num_filters)\n",
        "    p = MaxPool2D((2, 2))(x)\n",
        "    return x, p\n",
        "\n",
        "def decoder_block(inputs, skip_features, num_filters):\n",
        "    x = Conv2DTranspose(num_filters, 2, strides=2, padding=\"same\")(inputs)\n",
        "    x = Concatenate()([x, skip_features])\n",
        "    x = conv_block(x, num_filters)\n",
        "    return x\n",
        "\n",
        "def build_unet(input_shape):\n",
        "    inputs = Input(input_shape)\n",
        "\n",
        "    s1, p1 = encoder_block(inputs, 64)\n",
        "    s2, p2 = encoder_block(p1, 128)\n",
        "    s3, p3 = encoder_block(p2, 256)\n",
        "    s4, p4 = encoder_block(p3, 512)\n",
        "\n",
        "    # print(s1.shape, s2.shape, s3.shape, s4.shape)\n",
        "    # print(p1.shape, p2.shape, p3.shape, p4.shape)\n",
        "\n",
        "    b1 = conv_block(p4, 1024)\n",
        "\n",
        "    d1 = decoder_block(b1, s4, 512)\n",
        "    d2 = decoder_block(d1, s3, 256)\n",
        "    d3 = decoder_block(d2, s2, 128)\n",
        "    d4 = decoder_block(d3, s1, 64)\n",
        "\n",
        "    outputs = Conv2D(1, 1, padding=\"same\", activation=\"sigmoid\")(d4)\n",
        "\n",
        "    model = Model(inputs, outputs, name=\"UNET\")\n",
        "    return model\n",
        "\n",
        "input_shape = (128, 128, 1);\n",
        "model = build_unet(input_shape)\n",
        "model.summary()\n",
        "model.save('unet_marije_gas.h5')\n"
      ]
    },
    {
      "cell_type": "code",
      "source": [
        "from google.colab import files\n",
        "files.download('unet_marije_gas.h5');"
      ],
      "metadata": {
        "colab": {
          "base_uri": "https://localhost:8080/",
          "height": 17
        },
        "id": "5FWu9f2HqF9a",
        "outputId": "9c60c7b7-5264-4e82-a722-f7e6f5f15be8"
      },
      "execution_count": null,
      "outputs": [
        {
          "output_type": "display_data",
          "data": {
            "text/plain": [
              "<IPython.core.display.Javascript object>"
            ],
            "application/javascript": [
              "\n",
              "    async function download(id, filename, size) {\n",
              "      if (!google.colab.kernel.accessAllowed) {\n",
              "        return;\n",
              "      }\n",
              "      const div = document.createElement('div');\n",
              "      const label = document.createElement('label');\n",
              "      label.textContent = `Downloading \"${filename}\": `;\n",
              "      div.appendChild(label);\n",
              "      const progress = document.createElement('progress');\n",
              "      progress.max = size;\n",
              "      div.appendChild(progress);\n",
              "      document.body.appendChild(div);\n",
              "\n",
              "      const buffers = [];\n",
              "      let downloaded = 0;\n",
              "\n",
              "      const channel = await google.colab.kernel.comms.open(id);\n",
              "      // Send a message to notify the kernel that we're ready.\n",
              "      channel.send({})\n",
              "\n",
              "      for await (const message of channel.messages) {\n",
              "        // Send a message to notify the kernel that we're ready.\n",
              "        channel.send({})\n",
              "        if (message.buffers) {\n",
              "          for (const buffer of message.buffers) {\n",
              "            buffers.push(buffer);\n",
              "            downloaded += buffer.byteLength;\n",
              "            progress.value = downloaded;\n",
              "          }\n",
              "        }\n",
              "      }\n",
              "      const blob = new Blob(buffers, {type: 'application/binary'});\n",
              "      const a = document.createElement('a');\n",
              "      a.href = window.URL.createObjectURL(blob);\n",
              "      a.download = filename;\n",
              "      div.appendChild(a);\n",
              "      a.click();\n",
              "      div.remove();\n",
              "    }\n",
              "  "
            ]
          },
          "metadata": {}
        },
        {
          "output_type": "display_data",
          "data": {
            "text/plain": [
              "<IPython.core.display.Javascript object>"
            ],
            "application/javascript": [
              "download(\"download_b45ae5cf-2db7-4485-8879-f6e6a160b651\", \"unet_marije_gas.h5\", 124422608)"
            ]
          },
          "metadata": {}
        }
      ]
    },
    {
      "cell_type": "code",
      "execution_count": null,
      "metadata": {
        "id": "nFP5kvfw5AF2"
      },
      "outputs": [],
      "source": [
        "import tensorflow as tf\n",
        "from tensorflow.keras import backend as K\n",
        "\n",
        "smooth = 1e-15\n",
        "def dice_coef(y_true, y_pred):\n",
        "    #y_true = tf.cast(y_true, tf.float32)/255.0\n",
        "    #y_pred = tf.cast(y_pred, tf.float32)/255.0\n",
        "    y_true = tf.keras.layers.Flatten()(y_true)\n",
        "    y_pred = tf.keras.layers.Flatten()(y_pred)\n",
        "    intersection = tf.reduce_sum(y_true * y_pred)\n",
        "    return (2. * intersection + smooth) / (tf.reduce_sum(y_true) + tf.reduce_sum(y_pred) + smooth)\n",
        "\n",
        "def dice_loss(y_true, y_pred):\n",
        "    return 1.0 - dice_coef(y_true, y_pred)"
      ]
    },
    {
      "cell_type": "code",
      "execution_count": null,
      "metadata": {
        "id": "tMUpiRk_5DTh"
      },
      "outputs": [],
      "source": [
        "from sklearn.utils import shuffle\n",
        "import tensorflow as tf\n",
        "from tensorflow.keras.callbacks import ModelCheckpoint, CSVLogger, ReduceLROnPlateau, EarlyStopping, TensorBoard\n",
        "from tensorflow.keras.optimizers import Adam\n",
        "from sklearn.model_selection import train_test_split"
      ]
    },
    {
      "cell_type": "code",
      "execution_count": null,
      "metadata": {
        "id": "3ZM4-wOg5GF-",
        "colab": {
          "base_uri": "https://localhost:8080/"
        },
        "outputId": "58ed44b9-f3ec-4be7-b997-d2627a7ed2c7"
      },
      "outputs": [
        {
          "output_type": "stream",
          "name": "stderr",
          "text": [
            "WARNING:tensorflow:No training configuration found in the save file, so the model was *not* compiled. Compile it manually.\n"
          ]
        }
      ],
      "source": [
        "from tensorflow.keras.models import load_model\n",
        "model = load_model('unet_marije_gas.h5')\n",
        "\n",
        "np.random.seed(42)\n",
        "tf.random.set_seed(42)\n",
        "images_tr, images_val, labels_tr, labels_val = train_test_split(images, labels, test_size=0.2, random_state=42)\n",
        "batch_size1 = 16\n",
        "lr = 1e-4\n",
        "num_epochs = 5\n",
        "model.compile(loss=dice_loss, optimizer=Adam(lr), metrics=[dice_coef])\n",
        "callbacks1 = [\n",
        "        ReduceLROnPlateau(monitor='val_loss', factor=0.1, patience=5, min_lr=1e-7, verbose=1),\n",
        "        EarlyStopping(monitor='val_loss', patience=5, restore_best_weights=True),\n",
        "    ]"
      ]
    },
    {
      "cell_type": "code",
      "source": [
        "model.summary()"
      ],
      "metadata": {
        "colab": {
          "base_uri": "https://localhost:8080/"
        },
        "id": "ygaCfdg1rOrJ",
        "outputId": "e8d036e4-a354-4792-c1dd-5381e9b5afec"
      },
      "execution_count": null,
      "outputs": [
        {
          "output_type": "stream",
          "name": "stdout",
          "text": [
            "Model: \"UNET\"\n",
            "__________________________________________________________________________________________________\n",
            " Layer (type)                Output Shape                 Param #   Connected to                  \n",
            "==================================================================================================\n",
            " input_1 (InputLayer)        [(None, 128, 128, 1)]        0         []                            \n",
            "                                                                                                  \n",
            " conv2d (Conv2D)             (None, 128, 128, 64)         640       ['input_1[0][0]']             \n",
            "                                                                                                  \n",
            " batch_normalization (Batch  (None, 128, 128, 64)         256       ['conv2d[0][0]']              \n",
            " Normalization)                                                                                   \n",
            "                                                                                                  \n",
            " activation (Activation)     (None, 128, 128, 64)         0         ['batch_normalization[0][0]'] \n",
            "                                                                                                  \n",
            " conv2d_1 (Conv2D)           (None, 128, 128, 64)         36928     ['activation[0][0]']          \n",
            "                                                                                                  \n",
            " batch_normalization_1 (Bat  (None, 128, 128, 64)         256       ['conv2d_1[0][0]']            \n",
            " chNormalization)                                                                                 \n",
            "                                                                                                  \n",
            " activation_1 (Activation)   (None, 128, 128, 64)         0         ['batch_normalization_1[0][0]'\n",
            "                                                                    ]                             \n",
            "                                                                                                  \n",
            " max_pooling2d (MaxPooling2  (None, 64, 64, 64)           0         ['activation_1[0][0]']        \n",
            " D)                                                                                               \n",
            "                                                                                                  \n",
            " conv2d_2 (Conv2D)           (None, 64, 64, 128)          73856     ['max_pooling2d[0][0]']       \n",
            "                                                                                                  \n",
            " batch_normalization_2 (Bat  (None, 64, 64, 128)          512       ['conv2d_2[0][0]']            \n",
            " chNormalization)                                                                                 \n",
            "                                                                                                  \n",
            " activation_2 (Activation)   (None, 64, 64, 128)          0         ['batch_normalization_2[0][0]'\n",
            "                                                                    ]                             \n",
            "                                                                                                  \n",
            " conv2d_3 (Conv2D)           (None, 64, 64, 128)          147584    ['activation_2[0][0]']        \n",
            "                                                                                                  \n",
            " batch_normalization_3 (Bat  (None, 64, 64, 128)          512       ['conv2d_3[0][0]']            \n",
            " chNormalization)                                                                                 \n",
            "                                                                                                  \n",
            " activation_3 (Activation)   (None, 64, 64, 128)          0         ['batch_normalization_3[0][0]'\n",
            "                                                                    ]                             \n",
            "                                                                                                  \n",
            " max_pooling2d_1 (MaxPoolin  (None, 32, 32, 128)          0         ['activation_3[0][0]']        \n",
            " g2D)                                                                                             \n",
            "                                                                                                  \n",
            " conv2d_4 (Conv2D)           (None, 32, 32, 256)          295168    ['max_pooling2d_1[0][0]']     \n",
            "                                                                                                  \n",
            " batch_normalization_4 (Bat  (None, 32, 32, 256)          1024      ['conv2d_4[0][0]']            \n",
            " chNormalization)                                                                                 \n",
            "                                                                                                  \n",
            " activation_4 (Activation)   (None, 32, 32, 256)          0         ['batch_normalization_4[0][0]'\n",
            "                                                                    ]                             \n",
            "                                                                                                  \n",
            " conv2d_5 (Conv2D)           (None, 32, 32, 256)          590080    ['activation_4[0][0]']        \n",
            "                                                                                                  \n",
            " batch_normalization_5 (Bat  (None, 32, 32, 256)          1024      ['conv2d_5[0][0]']            \n",
            " chNormalization)                                                                                 \n",
            "                                                                                                  \n",
            " activation_5 (Activation)   (None, 32, 32, 256)          0         ['batch_normalization_5[0][0]'\n",
            "                                                                    ]                             \n",
            "                                                                                                  \n",
            " max_pooling2d_2 (MaxPoolin  (None, 16, 16, 256)          0         ['activation_5[0][0]']        \n",
            " g2D)                                                                                             \n",
            "                                                                                                  \n",
            " conv2d_6 (Conv2D)           (None, 16, 16, 512)          1180160   ['max_pooling2d_2[0][0]']     \n",
            "                                                                                                  \n",
            " batch_normalization_6 (Bat  (None, 16, 16, 512)          2048      ['conv2d_6[0][0]']            \n",
            " chNormalization)                                                                                 \n",
            "                                                                                                  \n",
            " activation_6 (Activation)   (None, 16, 16, 512)          0         ['batch_normalization_6[0][0]'\n",
            "                                                                    ]                             \n",
            "                                                                                                  \n",
            " conv2d_7 (Conv2D)           (None, 16, 16, 512)          2359808   ['activation_6[0][0]']        \n",
            "                                                                                                  \n",
            " batch_normalization_7 (Bat  (None, 16, 16, 512)          2048      ['conv2d_7[0][0]']            \n",
            " chNormalization)                                                                                 \n",
            "                                                                                                  \n",
            " activation_7 (Activation)   (None, 16, 16, 512)          0         ['batch_normalization_7[0][0]'\n",
            "                                                                    ]                             \n",
            "                                                                                                  \n",
            " max_pooling2d_3 (MaxPoolin  (None, 8, 8, 512)            0         ['activation_7[0][0]']        \n",
            " g2D)                                                                                             \n",
            "                                                                                                  \n",
            " conv2d_8 (Conv2D)           (None, 8, 8, 1024)           4719616   ['max_pooling2d_3[0][0]']     \n",
            "                                                                                                  \n",
            " batch_normalization_8 (Bat  (None, 8, 8, 1024)           4096      ['conv2d_8[0][0]']            \n",
            " chNormalization)                                                                                 \n",
            "                                                                                                  \n",
            " activation_8 (Activation)   (None, 8, 8, 1024)           0         ['batch_normalization_8[0][0]'\n",
            "                                                                    ]                             \n",
            "                                                                                                  \n",
            " conv2d_9 (Conv2D)           (None, 8, 8, 1024)           9438208   ['activation_8[0][0]']        \n",
            "                                                                                                  \n",
            " batch_normalization_9 (Bat  (None, 8, 8, 1024)           4096      ['conv2d_9[0][0]']            \n",
            " chNormalization)                                                                                 \n",
            "                                                                                                  \n",
            " activation_9 (Activation)   (None, 8, 8, 1024)           0         ['batch_normalization_9[0][0]'\n",
            "                                                                    ]                             \n",
            "                                                                                                  \n",
            " conv2d_transpose (Conv2DTr  (None, 16, 16, 512)          2097664   ['activation_9[0][0]']        \n",
            " anspose)                                                                                         \n",
            "                                                                                                  \n",
            " concatenate (Concatenate)   (None, 16, 16, 1024)         0         ['conv2d_transpose[0][0]',    \n",
            "                                                                     'activation_7[0][0]']        \n",
            "                                                                                                  \n",
            " conv2d_10 (Conv2D)          (None, 16, 16, 512)          4719104   ['concatenate[0][0]']         \n",
            "                                                                                                  \n",
            " batch_normalization_10 (Ba  (None, 16, 16, 512)          2048      ['conv2d_10[0][0]']           \n",
            " tchNormalization)                                                                                \n",
            "                                                                                                  \n",
            " activation_10 (Activation)  (None, 16, 16, 512)          0         ['batch_normalization_10[0][0]\n",
            "                                                                    ']                            \n",
            "                                                                                                  \n",
            " conv2d_11 (Conv2D)          (None, 16, 16, 512)          2359808   ['activation_10[0][0]']       \n",
            "                                                                                                  \n",
            " batch_normalization_11 (Ba  (None, 16, 16, 512)          2048      ['conv2d_11[0][0]']           \n",
            " tchNormalization)                                                                                \n",
            "                                                                                                  \n",
            " activation_11 (Activation)  (None, 16, 16, 512)          0         ['batch_normalization_11[0][0]\n",
            "                                                                    ']                            \n",
            "                                                                                                  \n",
            " conv2d_transpose_1 (Conv2D  (None, 32, 32, 256)          524544    ['activation_11[0][0]']       \n",
            " Transpose)                                                                                       \n",
            "                                                                                                  \n",
            " concatenate_1 (Concatenate  (None, 32, 32, 512)          0         ['conv2d_transpose_1[0][0]',  \n",
            " )                                                                   'activation_5[0][0]']        \n",
            "                                                                                                  \n",
            " conv2d_12 (Conv2D)          (None, 32, 32, 256)          1179904   ['concatenate_1[0][0]']       \n",
            "                                                                                                  \n",
            " batch_normalization_12 (Ba  (None, 32, 32, 256)          1024      ['conv2d_12[0][0]']           \n",
            " tchNormalization)                                                                                \n",
            "                                                                                                  \n",
            " activation_12 (Activation)  (None, 32, 32, 256)          0         ['batch_normalization_12[0][0]\n",
            "                                                                    ']                            \n",
            "                                                                                                  \n",
            " conv2d_13 (Conv2D)          (None, 32, 32, 256)          590080    ['activation_12[0][0]']       \n",
            "                                                                                                  \n",
            " batch_normalization_13 (Ba  (None, 32, 32, 256)          1024      ['conv2d_13[0][0]']           \n",
            " tchNormalization)                                                                                \n",
            "                                                                                                  \n",
            " activation_13 (Activation)  (None, 32, 32, 256)          0         ['batch_normalization_13[0][0]\n",
            "                                                                    ']                            \n",
            "                                                                                                  \n",
            " conv2d_transpose_2 (Conv2D  (None, 64, 64, 128)          131200    ['activation_13[0][0]']       \n",
            " Transpose)                                                                                       \n",
            "                                                                                                  \n",
            " concatenate_2 (Concatenate  (None, 64, 64, 256)          0         ['conv2d_transpose_2[0][0]',  \n",
            " )                                                                   'activation_3[0][0]']        \n",
            "                                                                                                  \n",
            " conv2d_14 (Conv2D)          (None, 64, 64, 128)          295040    ['concatenate_2[0][0]']       \n",
            "                                                                                                  \n",
            " batch_normalization_14 (Ba  (None, 64, 64, 128)          512       ['conv2d_14[0][0]']           \n",
            " tchNormalization)                                                                                \n",
            "                                                                                                  \n",
            " activation_14 (Activation)  (None, 64, 64, 128)          0         ['batch_normalization_14[0][0]\n",
            "                                                                    ']                            \n",
            "                                                                                                  \n",
            " conv2d_15 (Conv2D)          (None, 64, 64, 128)          147584    ['activation_14[0][0]']       \n",
            "                                                                                                  \n",
            " batch_normalization_15 (Ba  (None, 64, 64, 128)          512       ['conv2d_15[0][0]']           \n",
            " tchNormalization)                                                                                \n",
            "                                                                                                  \n",
            " activation_15 (Activation)  (None, 64, 64, 128)          0         ['batch_normalization_15[0][0]\n",
            "                                                                    ']                            \n",
            "                                                                                                  \n",
            " conv2d_transpose_3 (Conv2D  (None, 128, 128, 64)         32832     ['activation_15[0][0]']       \n",
            " Transpose)                                                                                       \n",
            "                                                                                                  \n",
            " concatenate_3 (Concatenate  (None, 128, 128, 128)        0         ['conv2d_transpose_3[0][0]',  \n",
            " )                                                                   'activation_1[0][0]']        \n",
            "                                                                                                  \n",
            " conv2d_16 (Conv2D)          (None, 128, 128, 64)         73792     ['concatenate_3[0][0]']       \n",
            "                                                                                                  \n",
            " batch_normalization_16 (Ba  (None, 128, 128, 64)         256       ['conv2d_16[0][0]']           \n",
            " tchNormalization)                                                                                \n",
            "                                                                                                  \n",
            " activation_16 (Activation)  (None, 128, 128, 64)         0         ['batch_normalization_16[0][0]\n",
            "                                                                    ']                            \n",
            "                                                                                                  \n",
            " conv2d_17 (Conv2D)          (None, 128, 128, 64)         36928     ['activation_16[0][0]']       \n",
            "                                                                                                  \n",
            " batch_normalization_17 (Ba  (None, 128, 128, 64)         256       ['conv2d_17[0][0]']           \n",
            " tchNormalization)                                                                                \n",
            "                                                                                                  \n",
            " activation_17 (Activation)  (None, 128, 128, 64)         0         ['batch_normalization_17[0][0]\n",
            "                                                                    ']                            \n",
            "                                                                                                  \n",
            " conv2d_18 (Conv2D)          (None, 128, 128, 1)          65        ['activation_17[0][0]']       \n",
            "                                                                                                  \n",
            "==================================================================================================\n",
            "Total params: 31054145 (118.46 MB)\n",
            "Trainable params: 31042369 (118.42 MB)\n",
            "Non-trainable params: 11776 (46.00 KB)\n",
            "__________________________________________________________________________________________________\n"
          ]
        }
      ]
    },
    {
      "cell_type": "code",
      "execution_count": null,
      "metadata": {
        "colab": {
          "base_uri": "https://localhost:8080/",
          "height": 245
        },
        "id": "P1UJj6Vc5It-",
        "outputId": "69ac2e4f-3843-4e9b-997e-7a73cc0077b0"
      },
      "outputs": [
        {
          "output_type": "stream",
          "name": "stdout",
          "text": [
            "Epoch 1/5\n",
            "125/125 [==============================] - 3549s 28s/step - loss: 0.4613 - dice_coef: 0.5390 - val_loss: 0.9240 - val_dice_coef: 0.0753 - lr: 1.0000e-04\n",
            "Epoch 2/5\n",
            "125/125 [==============================] - 3575s 29s/step - loss: 0.2984 - dice_coef: 0.7016 - val_loss: 0.9442 - val_dice_coef: 0.0553 - lr: 1.0000e-04\n",
            "Epoch 3/5\n",
            "125/125 [==============================] - 3554s 28s/step - loss: 0.2448 - dice_coef: 0.7552 - val_loss: 0.7548 - val_dice_coef: 0.2424 - lr: 1.0000e-04\n",
            "Epoch 4/5\n",
            "125/125 [==============================] - 3549s 28s/step - loss: 0.2065 - dice_coef: 0.7936 - val_loss: 0.3114 - val_dice_coef: 0.6864 - lr: 1.0000e-04\n",
            "Epoch 5/5\n",
            "125/125 [==============================] - 3512s 28s/step - loss: 0.1756 - dice_coef: 0.8245 - val_loss: 0.2073 - val_dice_coef: 0.7912 - lr: 1.0000e-04\n"
          ]
        },
        {
          "output_type": "stream",
          "name": "stderr",
          "text": [
            "/usr/local/lib/python3.10/dist-packages/keras/src/engine/training.py:3103: UserWarning: You are saving your model as an HDF5 file via `model.save()`. This file format is considered legacy. We recommend using instead the native Keras format, e.g. `model.save('my_model.keras')`.\n",
            "  saving_api.save_model(\n"
          ]
        },
        {
          "output_type": "display_data",
          "data": {
            "text/plain": [
              "<IPython.core.display.Javascript object>"
            ],
            "application/javascript": [
              "\n",
              "    async function download(id, filename, size) {\n",
              "      if (!google.colab.kernel.accessAllowed) {\n",
              "        return;\n",
              "      }\n",
              "      const div = document.createElement('div');\n",
              "      const label = document.createElement('label');\n",
              "      label.textContent = `Downloading \"${filename}\": `;\n",
              "      div.appendChild(label);\n",
              "      const progress = document.createElement('progress');\n",
              "      progress.max = size;\n",
              "      div.appendChild(progress);\n",
              "      document.body.appendChild(div);\n",
              "\n",
              "      const buffers = [];\n",
              "      let downloaded = 0;\n",
              "\n",
              "      const channel = await google.colab.kernel.comms.open(id);\n",
              "      // Send a message to notify the kernel that we're ready.\n",
              "      channel.send({})\n",
              "\n",
              "      for await (const message of channel.messages) {\n",
              "        // Send a message to notify the kernel that we're ready.\n",
              "        channel.send({})\n",
              "        if (message.buffers) {\n",
              "          for (const buffer of message.buffers) {\n",
              "            buffers.push(buffer);\n",
              "            downloaded += buffer.byteLength;\n",
              "            progress.value = downloaded;\n",
              "          }\n",
              "        }\n",
              "      }\n",
              "      const blob = new Blob(buffers, {type: 'application/binary'});\n",
              "      const a = document.createElement('a');\n",
              "      a.href = window.URL.createObjectURL(blob);\n",
              "      a.download = filename;\n",
              "      div.appendChild(a);\n",
              "      a.click();\n",
              "      div.remove();\n",
              "    }\n",
              "  "
            ]
          },
          "metadata": {}
        },
        {
          "output_type": "display_data",
          "data": {
            "text/plain": [
              "<IPython.core.display.Javascript object>"
            ],
            "application/javascript": [
              "download(\"download_c070f875-ce4e-4dc3-acf3-7f293cd476d3\", \"unet_marije_gas.h5\", 372916872)"
            ]
          },
          "metadata": {}
        }
      ],
      "source": [
        "'''history = model.fit(images_tr,\n",
        "                    labels_tr,\n",
        "                    epochs=num_epochs,\n",
        "                    batch_size=batch_size1,\n",
        "                    validation_data=(images_val, labels_val),\n",
        "                    callbacks=callbacks1,\n",
        "                    verbose=1)\n",
        "'''\n",
        "model.save('unet_marije_gas.h5')\n",
        "from google.colab import files\n",
        "files.download('unet_marije_gas.h5');"
      ]
    },
    {
      "cell_type": "code",
      "source": [
        "os.chdir('/content/drive/My Drive/slike_abs/slike_mr_roi')\n",
        "from google.colab import drive\n",
        "drive.mount('/content/drive')"
      ],
      "metadata": {
        "id": "eFaEXkGs6vth"
      },
      "execution_count": null,
      "outputs": []
    },
    {
      "cell_type": "code",
      "source": [
        "for i in range(20):\n",
        "    images1 = []\n",
        "    nii_file = 'topcow_mr_roi_0' + str(i+71).zfill(2) + '_0000.nii.gz'\n",
        "    data = nib.load(nii_file);\n",
        "    img = data.get_fdata()\n",
        "    mins = np.min(img, axis=(0,1));\n",
        "    maxs = np.max(img, axis=(0,1));\n",
        "    mins = mins.reshape((1, 1, -1))\n",
        "    maxs = maxs.reshape((1, 1, -1))\n",
        "    maxs = np.where(maxs == mins, maxs + 1, maxs)\n",
        "    img = (img-mins)/(maxs-mins);\n",
        "    dim = np.shape(img)[2];\n",
        "    for j in range(dim):\n",
        "        img1 = cv2.resize(img[:,:,j], (W, H))\n",
        "        img1 = img1.astype(np.float32);\n",
        "        img1 = np.expand_dims(img1, axis=-1);\n",
        "        if(j==0):\n",
        "            images1 = img1;\n",
        "        else:\n",
        "            images1 = np.concatenate((images1, img1), axis = 2);\n",
        "    images_transposed = np.transpose(images1, (2, 0, 1))\n",
        "    d1 = np.shape(images_transposed)[0];\n",
        "    images1 = images_transposed.reshape(d1, 128, 128, 1)\n",
        "    print(np.shape(images1));\n",
        "\n",
        "\n",
        "    y_pred = model.predict(images1, verbose = 0);\n",
        "    y_pred = np.squeeze(y_pred, axis=-1);\n",
        "    y_pred = y_pred >= 0.5;\n",
        "    y_pred = y_pred.astype(np.uint8);\n",
        "    for j in range(d1):\n",
        "      img_path = 'izlaz' + str(j) + '.png';\n",
        "      save_dir = '/content/drive/My Drive/izlazi_abs' + str(i+1);\n",
        "      image_path = os.path.join(save_dir, img_path);\n",
        "      plt.imsave(image_path, y_pred[j])"
      ],
      "metadata": {
        "id": "fkyAIlu7yC3N"
      },
      "execution_count": null,
      "outputs": []
    },
    {
      "cell_type": "code",
      "source": [
        "import os\n",
        "import nibabel as nib\n",
        "import matplotlib.pyplot as plt\n",
        "import numpy as np\n",
        "import scipy.ndimage as ndi\n",
        "import imageio\n",
        "from google.colab import drive\n",
        "drive.mount('/content/drive')"
      ],
      "metadata": {
        "id": "0xcGzk06EKUp"
      },
      "execution_count": null,
      "outputs": []
    },
    {
      "cell_type": "code",
      "source": [
        "import cv2\n",
        "W = 128;\n",
        "H = 128;"
      ],
      "metadata": {
        "id": "ZWhCts7MEzE9"
      },
      "execution_count": null,
      "outputs": []
    },
    {
      "cell_type": "code",
      "source": [
        "dice_arr = np.zeros(12)"
      ],
      "metadata": {
        "id": "gZpDhlUI1DTT"
      },
      "execution_count": null,
      "outputs": []
    },
    {
      "cell_type": "code",
      "source": [
        "os.chdir('/content/drive/My Drive/slike_abs/slike_mr_roi_labels')\n",
        "\n",
        "labels1 = [];\n",
        "nii_file = 'topcow_mr_roi_0' + str(71).zfill(2) + '.nii.gz'\n",
        "data = nib.load(nii_file);\n",
        "img = data.get_fdata()\n",
        "mins = np.min(img, axis=(0,1));\n",
        "maxs = np.max(img, axis=(0,1));\n",
        "mins = mins.reshape((1, 1, -1))\n",
        "maxs = maxs.reshape((1, 1, -1))\n",
        "maxs = np.where(maxs == mins, maxs + 1, maxs)\n",
        "img = (img-mins)/(maxs-mins);\n",
        "dim = np.shape(img)[2];\n",
        "for j in range(dim):\n",
        "    img1 = cv2.resize(img[:,:,j], (W, H))\n",
        "    img1 = img1.astype(np.float32);\n",
        "    img1 = np.expand_dims(img1, axis=-1)\n",
        "    if(j==0):\n",
        "        labels1 = img1;\n",
        "    else:\n",
        "        labels1 = np.concatenate((labels1, img1), axis = 2);\n"
      ],
      "metadata": {
        "id": "zA6ICVBs9lM0"
      },
      "execution_count": null,
      "outputs": []
    },
    {
      "cell_type": "code",
      "source": [
        "os.chdir('/content/drive/My Drive/izlazi_abs1')\n",
        "from PIL import Image\n",
        "\n",
        "\n",
        "izlazi = []\n",
        "for i in range(45):\n",
        "  image_path = 'izlaz' + str(i) + '.png'\n",
        "  izlaz = Image.open(image_path)\n",
        "  izlaz = izlaz.convert('L');\n",
        "  #izlaz = izlaz.astype(np.float32);\n",
        "  izlaz = np.expand_dims(izlaz, axis=-1)\n",
        "  izlaz = izlaz/255;\n",
        "  if(i==0):\n",
        "    izlazi = izlaz;\n",
        "  else:\n",
        "    izlazi = np.concatenate((izlazi, izlaz), axis = 2);\n",
        "print(np.shape(izlazi));"
      ],
      "metadata": {
        "colab": {
          "base_uri": "https://localhost:8080/"
        },
        "id": "msZp3fJjFEvv",
        "outputId": "78cf75ef-8c05-402c-f07a-ff0d5cf5b4fd"
      },
      "execution_count": null,
      "outputs": [
        {
          "output_type": "stream",
          "name": "stdout",
          "text": [
            "(128, 128, 45)\n"
          ]
        }
      ]
    },
    {
      "cell_type": "code",
      "source": [
        "labels1 =  labels1 >= 0.5;\n",
        "izlazi =  izlazi >= 0.5;\n",
        "labels1=tf.cast(labels1, tf.float32)\n",
        "izlazi=tf.cast(izlazi,tf.float32)"
      ],
      "metadata": {
        "id": "li5sC_tTHd0Y"
      },
      "execution_count": null,
      "outputs": []
    },
    {
      "cell_type": "code",
      "source": [
        "dice=0.0;\n",
        "for i in range(45):\n",
        "  dice=dice+dice_coef(labels1[:,:,i], izlazi[:,:,i])\n",
        "dice=dice/45\n",
        "print(dice)\n",
        "dice_arr[11]=dice"
      ],
      "metadata": {
        "colab": {
          "base_uri": "https://localhost:8080/"
        },
        "id": "P9XLLDmWvq_1",
        "outputId": "f10572b2-3cdf-4c21-bee5-7d4d8717773d"
      },
      "execution_count": null,
      "outputs": [
        {
          "output_type": "stream",
          "name": "stdout",
          "text": [
            "tf.Tensor(0.89398474, shape=(), dtype=float32)\n"
          ]
        }
      ]
    },
    {
      "cell_type": "code",
      "source": [
        "print(dice_arr)"
      ],
      "metadata": {
        "colab": {
          "base_uri": "https://localhost:8080/"
        },
        "id": "WTq7BJJe10_r",
        "outputId": "ec496e77-5066-426d-dfe3-e9a1dddc0593"
      },
      "execution_count": null,
      "outputs": [
        {
          "output_type": "stream",
          "name": "stdout",
          "text": [
            "[0.90938705 0.66829145 0.81367207 0.77749932 0.73401642 0.97041988\n",
            " 0.88582993 1.00009608 0.79655737 0.6578474  0.88171661 0.89398474]\n"
          ]
        }
      ]
    },
    {
      "cell_type": "code",
      "source": [
        "dice_mean=np.mean(dice_arr)\n",
        "print(dice_mean)"
      ],
      "metadata": {
        "colab": {
          "base_uri": "https://localhost:8080/"
        },
        "id": "tUN7DNnZ5J-O",
        "outputId": "475d1a40-ff63-408e-f602-1b765d4d2ae9"
      },
      "execution_count": null,
      "outputs": [
        {
          "output_type": "stream",
          "name": "stdout",
          "text": [
            "0.8324431926012039\n"
          ]
        }
      ]
    },
    {
      "cell_type": "code",
      "source": [
        "fig, axes = plt.subplots(nrows = 4, ncols = 2, figsize=(10,8), dpi = 120);\n",
        "\n",
        "for i in range(20,24):\n",
        "  y_true = labels1[:,:,i];\n",
        "  y_pred = izlazi[:,:,i];\n",
        "  axes[i-20,0].imshow(y_true, cmap='gray');axes[i-20,0].axis('off');axes[i-20,0].set_title('Tačna labela');\n",
        "  axes[i-20,1].imshow(y_pred, cmap='gray');axes[i-20,1].axis('off');axes[i-20,1].set_title('Naša procena');\n"
      ],
      "metadata": {
        "colab": {
          "base_uri": "https://localhost:8080/",
          "height": 806
        },
        "id": "3clO4ZE6IbxI",
        "outputId": "e72a6abe-603e-4993-f50f-6f942cbfe706"
      },
      "execution_count": null,
      "outputs": [
        {
          "output_type": "display_data",
          "data": {
            "text/plain": [
              "<Figure size 1200x960 with 8 Axes>"
            ],
            "image/png": "[encoded data removed]"
          },
          "metadata": {}
        }
      ]
    },
    {
      "cell_type": "code",
      "source": [],
      "metadata": {
        "id": "ngpux-Zz4WIw"
      },
      "execution_count": null,
      "outputs": []
    }
  ],
  "metadata": {
    "colab": {
      "provenance": [],
      "gpuType": "T4"
    },
    "kernelspec": {
      "display_name": "Python 3",
      "name": "python3"
    },
    "language_info": {
      "name": "python"
    },
    "accelerator": "GPU"
  },
  "nbformat": 4,
  "nbformat_minor": 0
}